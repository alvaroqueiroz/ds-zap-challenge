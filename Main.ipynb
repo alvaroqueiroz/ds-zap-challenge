{
 "cells": [
  {
   "cell_type": "markdown",
   "metadata": {},
   "source": [
   ]
  },
  {
   "cell_type": "markdown",
   "metadata": {},
   "source": [
    "# Introdução\n",
    "\n",
    "Neste Notebook, os dados de imóveis serão explorados (EDA), passarão pelo processo de ETL (Extract, Transform and Load, para um novo dataframe) e um modelo de aprendizado de máquina será treinado, o objetivo deste trabalho é criar um modelo para previsão do preço de um imóvel com base em suas características físicas.\n",
    "\n",
    "O Primeiro passo será fazer a Análise Exploratória dos Dados (EDA), o objetivo dessa fase é entender os dados e entender quais transformações devem ser feitas antes de servir os dados no treinamento do modelo\n",
    "\n",
    "## Carregando os Dados"
   ]
  },
  {
   "cell_type": "code",
   "execution_count": 1,
   "metadata": {},
   "outputs": [],
   "source": [
    "import json\n",
    "import pandas as pd\n",
    "import numpy as np\n",
    "from IPython.display import Image\n",
    "from IPython.core.display import HTML \n",
    "import matplotlib.pyplot as plt\n",
    "\n",
    "import tensorflow as tf\n",
    "from tensorflow.keras import backend as K\n",
    "\n",
    "from helper_functions import clean_df, plotCorrelationMatrix"
   ]
  },
  {
   "cell_type": "markdown",
   "metadata": {},
   "source": [
    "O Primeiro passo é carregar os dados do arquivo JSON para um dataframe Pandas."
   ]
  },
  {
   "cell_type": "code",
   "execution_count": 2,
   "metadata": {},
   "outputs": [
    {
     "data": {
      "text/html": [
       "<div>\n",
       "<style scoped>\n",
       "    .dataframe tbody tr th:only-of-type {\n",
       "        vertical-align: middle;\n",
       "    }\n",
       "\n",
       "    .dataframe tbody tr th {\n",
       "        vertical-align: top;\n",
       "    }\n",
       "\n",
       "    .dataframe thead th {\n",
       "        text-align: right;\n",
       "    }\n",
       "</style>\n",
       "<table border=\"1\" class=\"dataframe\">\n",
       "  <thead>\n",
       "    <tr style=\"text-align: right;\">\n",
       "      <th></th>\n",
       "      <th>address</th>\n",
       "      <th>bathrooms</th>\n",
       "      <th>bedrooms</th>\n",
       "      <th>createdAt</th>\n",
       "      <th>description</th>\n",
       "      <th>id</th>\n",
       "      <th>images</th>\n",
       "      <th>listingStatus</th>\n",
       "      <th>owner</th>\n",
       "      <th>parkingSpaces</th>\n",
       "      <th>pricingInfos</th>\n",
       "      <th>publicationType</th>\n",
       "      <th>publisherId</th>\n",
       "      <th>suites</th>\n",
       "      <th>title</th>\n",
       "      <th>totalAreas</th>\n",
       "      <th>unitTypes</th>\n",
       "      <th>updatedAt</th>\n",
       "      <th>usableAreas</th>\n",
       "    </tr>\n",
       "  </thead>\n",
       "  <tbody>\n",
       "    <tr>\n",
       "      <th>0</th>\n",
       "      <td>{'country': 'BR', 'zipCode': '04290030', 'city...</td>\n",
       "      <td>3.0</td>\n",
       "      <td>4.0</td>\n",
       "      <td>2017-02-07T13:21:40Z</td>\n",
       "      <td>04 dorms sendo 01 suÃ­te e closet, sala de est...</td>\n",
       "      <td>787c7bd19d</td>\n",
       "      <td>[https://s3-sa-east-1.amazonaws.com/vr.images....</td>\n",
       "      <td>ACTIVE</td>\n",
       "      <td>False</td>\n",
       "      <td>6.0</td>\n",
       "      <td>{'price': 700000, 'businessType': 'SALE'}</td>\n",
       "      <td>STANDARD</td>\n",
       "      <td>f4603b2b52</td>\n",
       "      <td>1.0</td>\n",
       "      <td>PRÃ“XIMO A AVENIDA PRESIDENTE TANCREDO NEVES</td>\n",
       "      <td>388.0</td>\n",
       "      <td>TWO_STORY_HOUSE</td>\n",
       "      <td>2018-12-06T19:27:12.623Z</td>\n",
       "      <td>388.0</td>\n",
       "    </tr>\n",
       "    <tr>\n",
       "      <th>1</th>\n",
       "      <td>{'country': 'BR', 'zipCode': '04187320', 'city...</td>\n",
       "      <td>2.0</td>\n",
       "      <td>3.0</td>\n",
       "      <td>2016-03-21T18:35:17Z</td>\n",
       "      <td>03 dorms sendo 01 suÃ­te, sala, sala de jantar...</td>\n",
       "      <td>4d68c0cdbe</td>\n",
       "      <td>[https://s3-sa-east-1.amazonaws.com/vr.images....</td>\n",
       "      <td>ACTIVE</td>\n",
       "      <td>False</td>\n",
       "      <td>2.0</td>\n",
       "      <td>{'price': 336000, 'businessType': 'SALE'}</td>\n",
       "      <td>STANDARD</td>\n",
       "      <td>f4603b2b52</td>\n",
       "      <td>1.0</td>\n",
       "      <td>PRÃ“XIMO A FACULDADE UNIP CAMPUS ANCHIETA</td>\n",
       "      <td>129.0</td>\n",
       "      <td>HOME</td>\n",
       "      <td>2018-12-12T13:17:23.547Z</td>\n",
       "      <td>129.0</td>\n",
       "    </tr>\n",
       "    <tr>\n",
       "      <th>2</th>\n",
       "      <td>{'country': '', 'zipCode': '01311000', 'city':...</td>\n",
       "      <td>4.0</td>\n",
       "      <td>0.0</td>\n",
       "      <td>2018-12-18T23:47:03.425Z</td>\n",
       "      <td>Andar com 395,70mÂ² de Ã¡rea Ãºtil, 04 wcs, 05...</td>\n",
       "      <td>e7e0b554ac</td>\n",
       "      <td>[http://static.nidoimovel.com.br/d3d9446802a44...</td>\n",
       "      <td>ACTIVE</td>\n",
       "      <td>False</td>\n",
       "      <td>5.0</td>\n",
       "      <td>{'period': 'MONTHLY', 'yearlyIptu': 4040, 'pri...</td>\n",
       "      <td>STANDARD</td>\n",
       "      <td>501f6d5e94</td>\n",
       "      <td>0.0</td>\n",
       "      <td>Excelente Conjunto Comercial na Av. Paulista</td>\n",
       "      <td>NaN</td>\n",
       "      <td>COMMERCIAL_PROPERTY</td>\n",
       "      <td>NaN</td>\n",
       "      <td>396.0</td>\n",
       "    </tr>\n",
       "    <tr>\n",
       "      <th>3</th>\n",
       "      <td>{'country': '', 'zipCode': '04550004', 'city':...</td>\n",
       "      <td>2.0</td>\n",
       "      <td>3.0</td>\n",
       "      <td>2018-10-26T16:18:28.915Z</td>\n",
       "      <td>Viva melhor e de um jeito novo, com privilÃ©gi...</td>\n",
       "      <td>6654d93423</td>\n",
       "      <td>[https://vr-prod-vivapro-images.s3.amazonaws.c...</td>\n",
       "      <td>ACTIVE</td>\n",
       "      <td>False</td>\n",
       "      <td>2.0</td>\n",
       "      <td>{'yearlyIptu': 1610, 'price': 739643, 'busines...</td>\n",
       "      <td>STANDARD</td>\n",
       "      <td>527c7b0cc0</td>\n",
       "      <td>1.0</td>\n",
       "      <td>Apartamento com 80mÂ², 2 vagas prÃ³ximo ao Par...</td>\n",
       "      <td>80.0</td>\n",
       "      <td>APARTMENT</td>\n",
       "      <td>2018-11-08T16:38:35.434Z</td>\n",
       "      <td>80.0</td>\n",
       "    </tr>\n",
       "    <tr>\n",
       "      <th>4</th>\n",
       "      <td>{'country': '', 'zipCode': '04005030', 'city':...</td>\n",
       "      <td>5.0</td>\n",
       "      <td>4.0</td>\n",
       "      <td>2018-12-14T18:06:51.342Z</td>\n",
       "      <td>Sua Ã¡rea Ã© ocupada majoritariamente por inst...</td>\n",
       "      <td>9ffaf676ae</td>\n",
       "      <td>[https://vr-prod-vivapro-images.s3.amazonaws.c...</td>\n",
       "      <td>ACTIVE</td>\n",
       "      <td>False</td>\n",
       "      <td>5.0</td>\n",
       "      <td>{'yearlyIptu': 18900, 'price': 7520099, 'busin...</td>\n",
       "      <td>STANDARD</td>\n",
       "      <td>527c7b0cc0</td>\n",
       "      <td>4.0</td>\n",
       "      <td>Apartamento 332mÂ², 4 suÃ­tes Ã  venda prÃ³xim...</td>\n",
       "      <td>332.0</td>\n",
       "      <td>APARTMENT</td>\n",
       "      <td>2018-12-14T18:06:55.140Z</td>\n",
       "      <td>3322.0</td>\n",
       "    </tr>\n",
       "  </tbody>\n",
       "</table>\n",
       "</div>"
      ],
      "text/plain": [
       "                                             address  bathrooms  bedrooms  \\\n",
       "0  {'country': 'BR', 'zipCode': '04290030', 'city...        3.0       4.0   \n",
       "1  {'country': 'BR', 'zipCode': '04187320', 'city...        2.0       3.0   \n",
       "2  {'country': '', 'zipCode': '01311000', 'city':...        4.0       0.0   \n",
       "3  {'country': '', 'zipCode': '04550004', 'city':...        2.0       3.0   \n",
       "4  {'country': '', 'zipCode': '04005030', 'city':...        5.0       4.0   \n",
       "\n",
       "                  createdAt  \\\n",
       "0      2017-02-07T13:21:40Z   \n",
       "1      2016-03-21T18:35:17Z   \n",
       "2  2018-12-18T23:47:03.425Z   \n",
       "3  2018-10-26T16:18:28.915Z   \n",
       "4  2018-12-14T18:06:51.342Z   \n",
       "\n",
       "                                         description          id  \\\n",
       "0  04 dorms sendo 01 suÃ­te e closet, sala de est...  787c7bd19d   \n",
       "1  03 dorms sendo 01 suÃ­te, sala, sala de jantar...  4d68c0cdbe   \n",
       "2  Andar com 395,70mÂ² de Ã¡rea Ãºtil, 04 wcs, 05...  e7e0b554ac   \n",
       "3  Viva melhor e de um jeito novo, com privilÃ©gi...  6654d93423   \n",
       "4  Sua Ã¡rea Ã© ocupada majoritariamente por inst...  9ffaf676ae   \n",
       "\n",
       "                                              images listingStatus  owner  \\\n",
       "0  [https://s3-sa-east-1.amazonaws.com/vr.images....        ACTIVE  False   \n",
       "1  [https://s3-sa-east-1.amazonaws.com/vr.images....        ACTIVE  False   \n",
       "2  [http://static.nidoimovel.com.br/d3d9446802a44...        ACTIVE  False   \n",
       "3  [https://vr-prod-vivapro-images.s3.amazonaws.c...        ACTIVE  False   \n",
       "4  [https://vr-prod-vivapro-images.s3.amazonaws.c...        ACTIVE  False   \n",
       "\n",
       "   parkingSpaces                                       pricingInfos  \\\n",
       "0            6.0          {'price': 700000, 'businessType': 'SALE'}   \n",
       "1            2.0          {'price': 336000, 'businessType': 'SALE'}   \n",
       "2            5.0  {'period': 'MONTHLY', 'yearlyIptu': 4040, 'pri...   \n",
       "3            2.0  {'yearlyIptu': 1610, 'price': 739643, 'busines...   \n",
       "4            5.0  {'yearlyIptu': 18900, 'price': 7520099, 'busin...   \n",
       "\n",
       "  publicationType publisherId  suites  \\\n",
       "0        STANDARD  f4603b2b52     1.0   \n",
       "1        STANDARD  f4603b2b52     1.0   \n",
       "2        STANDARD  501f6d5e94     0.0   \n",
       "3        STANDARD  527c7b0cc0     1.0   \n",
       "4        STANDARD  527c7b0cc0     4.0   \n",
       "\n",
       "                                               title  totalAreas  \\\n",
       "0       PRÃ“XIMO A AVENIDA PRESIDENTE TANCREDO NEVES       388.0   \n",
       "1          PRÃ“XIMO A FACULDADE UNIP CAMPUS ANCHIETA       129.0   \n",
       "2       Excelente Conjunto Comercial na Av. Paulista         NaN   \n",
       "3  Apartamento com 80mÂ², 2 vagas prÃ³ximo ao Par...        80.0   \n",
       "4  Apartamento 332mÂ², 4 suÃ­tes Ã  venda prÃ³xim...       332.0   \n",
       "\n",
       "             unitTypes                 updatedAt  usableAreas  \n",
       "0      TWO_STORY_HOUSE  2018-12-06T19:27:12.623Z        388.0  \n",
       "1                 HOME  2018-12-12T13:17:23.547Z        129.0  \n",
       "2  COMMERCIAL_PROPERTY                       NaN        396.0  \n",
       "3            APARTMENT  2018-11-08T16:38:35.434Z         80.0  \n",
       "4            APARTMENT  2018-12-14T18:06:55.140Z       3322.0  "
      ]
     },
     "execution_count": 2,
     "metadata": {},
     "output_type": "execute_result"
    }
   ],
   "source": [
    "df_train = pd.read_json(r'source-4-ds-train.json', lines=True)\n",
    "df_test = pd.read_json(r'source-4-ds-test.json', lines=True)\n",
    "n_ent = len(df_train)\n",
    "df_train.head()"
   ]
  },
  {
   "cell_type": "markdown",
   "metadata": {},
   "source": [
    "Esse conjunto de dados têm várias colunas com dados que agregam pouco ou nenhum valor à análise de valor do imóvel. A descrição por exemplo, é uma string sem qualquer padronização, isso a torna uma feature ruim para usar em modelos de machine learning mais simples. publicationType, publisherId e listingStatus são outros exemplos.\n",
    "As imagens poderiam, eventualmente, ser usadas mas aumentaria a complexidade do modelo, portatnto, essa feature também ficará de fora."
   ]
  },
  {
   "cell_type": "code",
   "execution_count": 3,
   "metadata": {},
   "outputs": [
    {
     "name": "stdout",
     "output_type": "stream",
     "text": [
      "Antes da seleção de dados para análise e limpeza, o total de entradas é 133964\n",
      "Após o processamento, sobram 84092 entradas, 37.23% dos dados foram perdidos\n"
     ]
    },
    {
     "data": {
      "text/html": [
       "<div>\n",
       "<style scoped>\n",
       "    .dataframe tbody tr th:only-of-type {\n",
       "        vertical-align: middle;\n",
       "    }\n",
       "\n",
       "    .dataframe tbody tr th {\n",
       "        vertical-align: top;\n",
       "    }\n",
       "\n",
       "    .dataframe thead th {\n",
       "        text-align: right;\n",
       "    }\n",
       "</style>\n",
       "<table border=\"1\" class=\"dataframe\">\n",
       "  <thead>\n",
       "    <tr style=\"text-align: right;\">\n",
       "      <th></th>\n",
       "      <th>id</th>\n",
       "      <th>latitude</th>\n",
       "      <th>longitude</th>\n",
       "      <th>price</th>\n",
       "      <th>n_bathrooms</th>\n",
       "      <th>n_bedrooms</th>\n",
       "      <th>n_suites</th>\n",
       "      <th>parking_spaces</th>\n",
       "      <th>total_area</th>\n",
       "      <th>usable_area</th>\n",
       "      <th>tipo</th>\n",
       "    </tr>\n",
       "  </thead>\n",
       "  <tbody>\n",
       "    <tr>\n",
       "      <th>0</th>\n",
       "      <td>787c7bd19d</td>\n",
       "      <td>-23.612923</td>\n",
       "      <td>-46.614222</td>\n",
       "      <td>700000</td>\n",
       "      <td>3.0</td>\n",
       "      <td>4.0</td>\n",
       "      <td>1.0</td>\n",
       "      <td>6.0</td>\n",
       "      <td>388.0</td>\n",
       "      <td>388.0</td>\n",
       "      <td>TWO_STORY_HOUSE</td>\n",
       "    </tr>\n",
       "    <tr>\n",
       "      <th>1</th>\n",
       "      <td>4d68c0cdbe</td>\n",
       "      <td>-23.643962</td>\n",
       "      <td>-46.593475</td>\n",
       "      <td>336000</td>\n",
       "      <td>2.0</td>\n",
       "      <td>3.0</td>\n",
       "      <td>1.0</td>\n",
       "      <td>2.0</td>\n",
       "      <td>129.0</td>\n",
       "      <td>129.0</td>\n",
       "      <td>HOME</td>\n",
       "    </tr>\n",
       "    <tr>\n",
       "      <th>2</th>\n",
       "      <td>6654d93423</td>\n",
       "      <td>-23.598023</td>\n",
       "      <td>-46.682781</td>\n",
       "      <td>739643</td>\n",
       "      <td>2.0</td>\n",
       "      <td>3.0</td>\n",
       "      <td>1.0</td>\n",
       "      <td>2.0</td>\n",
       "      <td>80.0</td>\n",
       "      <td>80.0</td>\n",
       "      <td>APARTMENT</td>\n",
       "    </tr>\n",
       "    <tr>\n",
       "      <th>3</th>\n",
       "      <td>9ffaf676ae</td>\n",
       "      <td>-23.582497</td>\n",
       "      <td>-46.653027</td>\n",
       "      <td>7520099</td>\n",
       "      <td>5.0</td>\n",
       "      <td>4.0</td>\n",
       "      <td>4.0</td>\n",
       "      <td>5.0</td>\n",
       "      <td>332.0</td>\n",
       "      <td>3322.0</td>\n",
       "      <td>APARTMENT</td>\n",
       "    </tr>\n",
       "    <tr>\n",
       "      <th>4</th>\n",
       "      <td>4d96835e38</td>\n",
       "      <td>-23.603692</td>\n",
       "      <td>-46.673550</td>\n",
       "      <td>1889</td>\n",
       "      <td>0.0</td>\n",
       "      <td>1.0</td>\n",
       "      <td>1.0</td>\n",
       "      <td>1.0</td>\n",
       "      <td>45.0</td>\n",
       "      <td>45.0</td>\n",
       "      <td>FLAT</td>\n",
       "    </tr>\n",
       "  </tbody>\n",
       "</table>\n",
       "</div>"
      ],
      "text/plain": [
       "           id   latitude  longitude    price  n_bathrooms  n_bedrooms  \\\n",
       "0  787c7bd19d -23.612923 -46.614222   700000          3.0         4.0   \n",
       "1  4d68c0cdbe -23.643962 -46.593475   336000          2.0         3.0   \n",
       "2  6654d93423 -23.598023 -46.682781   739643          2.0         3.0   \n",
       "3  9ffaf676ae -23.582497 -46.653027  7520099          5.0         4.0   \n",
       "4  4d96835e38 -23.603692 -46.673550     1889          0.0         1.0   \n",
       "\n",
       "   n_suites  parking_spaces  total_area  usable_area             tipo  \n",
       "0       1.0             6.0       388.0        388.0  TWO_STORY_HOUSE  \n",
       "1       1.0             2.0       129.0        129.0             HOME  \n",
       "2       1.0             2.0        80.0         80.0        APARTMENT  \n",
       "3       4.0             5.0       332.0       3322.0        APARTMENT  \n",
       "4       1.0             1.0        45.0         45.0             FLAT  "
      ]
     },
     "execution_count": 3,
     "metadata": {},
     "output_type": "execute_result"
    }
   ],
   "source": [
    "print(f'Antes da seleção de dados para análise e limpeza, o total de entradas é {n_ent}')\n",
    "# A função clean_df está em arquivo separado, isso é feito para facilitar a leitura do notebook\n",
    "df_train = clean_df(df_train)\n",
    "df_test = clean_df(df_test)\n",
    "print(f'Após o processamento, sobram {len(df_train)} entradas, {(1 - len(df_train)/n_ent)*100:.2f}% dos dados foram perdidos')\n",
    "df_train.head()"
   ]
  },
  {
   "cell_type": "code",
   "execution_count": 4,
   "metadata": {},
   "outputs": [
    {
     "name": "stdout",
     "output_type": "stream",
     "text": [
      "APARTMENT                     41119\n",
      "TWO_STORY_HOUSE               14292\n",
      "HOME                           6440\n",
      "FLAT                           5165\n",
      "OFFICE                         4938\n",
      "COMMERCIAL_PROPERTY            3676\n",
      "CONDOMINIUM                    3041\n",
      "PENTHOUSE                      1685\n",
      "SHED_DEPOSIT_WAREHOUSE         1298\n",
      "RESIDENTIAL_ALLOTMENT_LAND      791\n",
      "BUSINESS                        422\n",
      "STORE                           398\n",
      "COMMERCIAL_ALLOTMENT_LAND       395\n",
      "KITNET                          193\n",
      "RESIDENTIAL_BUILDING            117\n",
      "COMMERCIAL_BUILDING              84\n",
      "CLINIC                           31\n",
      "COUNTRY_HOUSE                     6\n",
      "FARM                              1\n",
      "Name: tipo, dtype: int64 \n",
      "\n",
      "Existem 19 classes de imóvel nesse banco de dados\n"
     ]
    }
   ],
   "source": [
    "print(df_train.tipo.value_counts(),'\\n')\n",
    "print(f'Existem {df_train.tipo.value_counts().count()} classes de imóvel nesse banco de dados')"
   ]
  },
  {
   "cell_type": "markdown",
   "metadata": {},
   "source": [
    "Essa feature é do tipo classe, para treinar um modelo para prever o valor de cada classe, precisa-se de quantidade expressiva de dados para cada classe.\n",
    "Existem 19 classes de imóveis, alguns, como fazendas e clínicas, possuem quantidade de anúncios muito pequenas para treinamento de um modelo, portanto, apenas algumas serão selecionadas.\n",
    "Apenas os dados de APARTMENT, TWO_STORY_HOUSE, HOME, FLAT e OFFICE serão utilizandos para criar o modelo."
   ]
  },
  {
   "cell_type": "code",
   "execution_count": 5,
   "metadata": {},
   "outputs": [
    {
     "name": "stdout",
     "output_type": "stream",
     "text": [
      "Agora restam 71954 entradas para treinamento e 9271 entradas para teste\n"
     ]
    }
   ],
   "source": [
    "df_train = df_train[(df_train.tipo == 'APARTMENT') | (df_train.tipo ==  'TWO_STORY_HOUSE') | \\\n",
    "   (df_train.tipo ==  'HOME') | (df_train.tipo ==  'FLAT') | (df_train.tipo ==  'OFFICE')]\n",
    "\n",
    "df_test = df_test[(df_test.tipo == 'APARTMENT') | (df_test.tipo ==  'TWO_STORY_HOUSE') | \\\n",
    "   (df_test.tipo ==  'HOME') | (df_test.tipo ==  'FLAT') | (df_test.tipo ==  'OFFICE')]\n",
    "\n",
    "\n",
    "print(f'Agora restam {len(df_train)} entradas para treinamento e {len(df_test)} entradas para teste')"
   ]
  },
  {
   "cell_type": "markdown",
   "metadata": {},
   "source": [
    "Outro problema que é possível observar nos dados, é existência valores igual a zero nos campos usable_area e total_area, esses valores também precisam ser ecluído, é inconsistente uma casa com 0 m² de área construída"
   ]
  },
  {
   "cell_type": "code",
   "execution_count": 6,
   "metadata": {},
   "outputs": [
    {
     "name": "stdout",
     "output_type": "stream",
     "text": [
      "Existem 1698 valores usable_area igual a zero no conjunto de dados\n",
      "Existem 5859 valores total_area igual a zero no conjunto de dados\n",
      "No conjunto de treinamento\n"
     ]
    }
   ],
   "source": [
    "print(f\"Existem {df_train[df_train.usable_area == 0].count()['id']} valores usable_area igual a zero no conjunto de dados\")\n",
    "print(f\"Existem {df_train[df_train.total_area == 0].count()['id']} valores total_area igual a zero no conjunto de dados\")\n",
    "print('No conjunto de treinamento')"
   ]
  },
  {
   "cell_type": "code",
   "execution_count": 7,
   "metadata": {},
   "outputs": [
    {
     "name": "stdout",
     "output_type": "stream",
     "text": [
      "Agora restam 66095 entradas para treinamento e 8593 entradas para teste\n"
     ]
    }
   ],
   "source": [
    "# Qualquer entrada com valor diferente de zero em usable_area e total_area será excluída\n",
    "df_train = df_train[(df_train.usable_area != 0) & (df_train.total_area != 0)]\n",
    "df_test = df_test[(df_test.usable_area != 0) & (df_test.total_area != 0)]\n",
    "print(f'Agora restam {len(df_train)} entradas para treinamento e {len(df_test)} entradas para teste')"
   ]
  },
  {
   "cell_type": "markdown",
   "metadata": {},
   "source": [
    "## Visualização dos dados\n",
    "\n",
    "É prudente visualizar todos os dados selecionados antes de criar um modelo, precisamos testar se esses dados realmente influenciam no preço e se seus valores estão corretos e/ou fazem sentido"
   ]
  },
  {
   "cell_type": "markdown",
   "metadata": {},
   "source": [
    "#### Valor do imóvel"
   ]
  },
  {
   "cell_type": "code",
   "execution_count": 8,
   "metadata": {},
   "outputs": [
    {
     "name": "stdout",
     "output_type": "stream",
     "text": [
      "O valor médio de um imóvel é 660833.47\n",
      "O menor valor de um imóvel é 140.00, isso só pode ser algum erro\n"
     ]
    },
    {
     "data": {
      "image/png": "[encoded data removed]",
      "text/plain": [
       "<Figure size 432x288 with 1 Axes>"
      ]
     },
     "metadata": {
      "needs_background": "light"
     },
     "output_type": "display_data"
    }
   ],
   "source": [
    "plt.xlim([0,4400000])\n",
    "plot = df_train['price'].plot.hist(bins = 1000)\n",
    "print(f\"O valor médio de um imóvel é {df_train['price'].mean():.2f}\")\n",
    "print(f\"O menor valor de um imóvel é {df_train['price'].min():.2f}, isso só pode ser algum erro\")"
   ]
  },
  {
   "cell_type": "markdown",
   "metadata": {},
   "source": [
    "No histograma acima notamos um dado estranho, existem imóveis com valor de 140 reais no banco de dados, isso só pode ser algum engano, talvez o valor do aluguel tenha sido inserido no lugar do valor do imóvel.\n",
    "\n",
    "Por isso, mais dados precisam ser excluídos desse dataframe, excluiremos todos os dados com imóveis com valor menor que 25 mil, porque alguns excritórios pequenos podem ser encontrados a partir desse valor, e algumas casas ou apartamentos grandes podem ter alugueis superiores a 15 mil."
   ]
  },
  {
   "cell_type": "code",
   "execution_count": 9,
   "metadata": {},
   "outputs": [
    {
     "name": "stdout",
     "output_type": "stream",
     "text": [
      "Agora restam 54191 entradas para treinamento e 8593 entradas para teste\n"
     ]
    }
   ],
   "source": [
    "df_train = df_train[df_train.price > 25000]\n",
    "print(f'Agora restam {len(df_train)} entradas para treinamento e {len(df_test)} entradas para teste')"
   ]
  },
  {
   "cell_type": "code",
   "execution_count": 10,
   "metadata": {},
   "outputs": [
    {
     "name": "stdout",
     "output_type": "stream",
     "text": [
      "O valor médio de um imóvel é 804974.26\n",
      "O menor valor de um imóvel é 25137.00\n"
     ]
    },
    {
     "data": {
      "image/png": "[encoded data removed]",
      "text/plain": [
       "<Figure size 432x288 with 1 Axes>"
      ]
     },
     "metadata": {
      "needs_background": "light"
     },
     "output_type": "display_data"
    }
   ],
   "source": [
    "plt.xlim([0,4400000])\n",
    "plot = df_train['price'].plot.hist(bins = 1000)\n",
    "print(f\"O valor médio de um imóvel é {df_train['price'].mean():.2f}\")\n",
    "print(f\"O menor valor de um imóvel é {df_train['price'].min():.2f}\")"
   ]
  },
  {
   "cell_type": "markdown",
   "metadata": {},
   "source": [
    "#### Quantidade de quartos"
   ]
  },
  {
   "cell_type": "code",
   "execution_count": 11,
   "metadata": {},
   "outputs": [
    {
     "name": "stdout",
     "output_type": "stream",
     "text": [
      "A quantidade mais comum de um quartos por imóvel é :  3.0\n"
     ]
    },
    {
     "data": {
      "image/png": "[encoded data removed]",
      "text/plain": [
       "<Figure size 432x288 with 1 Axes>"
      ]
     },
     "metadata": {
      "needs_background": "light"
     },
     "output_type": "display_data"
    }
   ],
   "source": [
    "max_bedrooms = int(df_train['n_bedrooms'].max())\n",
    "plot = df_train['n_bedrooms'].plot.hist(bins = max_bedrooms, xlim=(0,10))\n",
    "plt.xlabel('quartos')\n",
    "print(\"A quantidade mais comum de um quartos por imóvel é : \",df_train['n_bedrooms'].value_counts().idxmax())"
   ]
  },
  {
   "cell_type": "markdown",
   "metadata": {},
   "source": [
    "#### Número de Banheiros"
   ]
  },
  {
   "cell_type": "code",
   "execution_count": 12,
   "metadata": {},
   "outputs": [
    {
     "name": "stdout",
     "output_type": "stream",
     "text": [
      "A quantidade mais comum de banheiros por imóvel é :  2.0\n"
     ]
    },
    {
     "data": {
      "image/png": "[encoded data removed]",
      "text/plain": [
       "<Figure size 432x288 with 1 Axes>"
      ]
     },
     "metadata": {
      "needs_background": "light"
     },
     "output_type": "display_data"
    }
   ],
   "source": [
    "max_bathrooms = int(df_train['n_bathrooms'].max())\n",
    "plot = df_train['n_bathrooms'].plot.hist(bins = max_bathrooms, xlim=(0,10))\n",
    "plt.xlabel('banheiros')\n",
    "print(\"A quantidade mais comum de banheiros por imóvel é : \",df_train['n_bathrooms'].value_counts().idxmax())"
   ]
  },
  {
   "cell_type": "markdown",
   "metadata": {},
   "source": [
    "#### Quantidade de garagens"
   ]
  },
  {
   "cell_type": "code",
   "execution_count": 13,
   "metadata": {},
   "outputs": [
    {
     "name": "stdout",
     "output_type": "stream",
     "text": [
      "A quantidade mais comum de vagas para estacionamento por imóvel é :  1.0\n"
     ]
    },
    {
     "data": {
      "image/png": "[encoded data removed]",
      "text/plain": [
       "<Figure size 432x288 with 1 Axes>"
      ]
     },
     "metadata": {
      "needs_background": "light"
     },
     "output_type": "display_data"
    }
   ],
   "source": [
    "max_bedrooms = int(df_train['parking_spaces'].max())\n",
    "plot = df_train['parking_spaces'].plot.hist(bins = max_bedrooms, xlim=(0,10))\n",
    "plt.xlabel('vagas para estacionamento')\n",
    "print(\"A quantidade mais comum de vagas para estacionamento por imóvel é : \", \\\n",
    "      df_train['parking_spaces'].value_counts().idxmax())"
   ]
  },
  {
   "cell_type": "markdown",
   "metadata": {},
   "source": [
    "## Tratamento de Outliers\n",
    "\n",
    "Outliers são normalmente o produto do preenchimento inadequado do formulário, esse valores precisam ser tratados antes do treinamento do modelo, ou podem trazer um impacto negativo as predições.\n",
    "\n",
    "Por exemplo, o maior valor de área nos dados é"
   ]
  },
  {
   "cell_type": "code",
   "execution_count": 14,
   "metadata": {},
   "outputs": [
    {
     "name": "stdout",
     "output_type": "stream",
     "text": [
      "1111111111.0  m²\n"
     ]
    }
   ],
   "source": [
    "print(df_train['total_area'].max(), \" m²\")"
   ]
  },
  {
   "cell_type": "markdown",
   "metadata": {},
   "source": [
    "Esse valor é equivalente a área de 10 campos de futebol, um imóvel com esse tamanho é muito improvável e traria danos à previsões de imóveis com tamanho mais realistas, por isso, precisa ser excluído"
   ]
  },
  {
   "cell_type": "markdown",
   "metadata": {},
   "source": [
    "#### Eliminação de Outliers\n",
    "\n",
    "Os Outliers serão eliminados, aqui precisa-se escolher números que façam sentido para o threshold, um gráfico de barras poderia ser de grande ajuda, entretanto, como estamos falando de imóveis, pode-se utilizar a intuição, então números exagerados para cada feature serão excluídos"
   ]
  },
  {
   "cell_type": "code",
   "execution_count": 15,
   "metadata": {},
   "outputs": [
    {
     "name": "stdout",
     "output_type": "stream",
     "text": [
      "Agora restam 53769 entradas para treinamento e 8563 entradas para teste\n"
     ]
    }
   ],
   "source": [
    "df_train = df_train[(df_train.n_bathrooms < 10) & (df_train.n_bedrooms < 10) & (df_train.n_suites < 10) & \\\n",
    "        (df_train.total_area < 5000) & (df_train.usable_area < 5000) & (df_train.price < 10000000)]\n",
    "\n",
    "df_test = df_test[(df_test.n_bathrooms < 10) & (df_test.n_bedrooms < 10) & (df_test.n_suites < 10) & \\\n",
    "        (df_test.total_area < 5000) & (df_test.usable_area < 5000)]\n",
    "\n",
    "print(f'Agora restam {len(df_train)} entradas para treinamento e {len(df_test)} entradas para teste')"
   ]
  },
  {
   "cell_type": "code",
   "execution_count": 16,
   "metadata": {},
   "outputs": [
    {
     "data": {
      "image/png": "[encoded data removed]",
      "text/plain": [
       "<Figure size 640x640 with 2 Axes>"
      ]
     },
     "metadata": {},
     "output_type": "display_data"
    }
   ],
   "source": [
    "plotCorrelationMatrix(df_train,8)"
   ]
  },
  {
   "cell_type": "markdown",
   "metadata": {},
   "source": [
    "Analisando a matriz de correlações, é possível perceber que latitude e longitude tem correlação fraca com o preço do imóvel, isso não significa que não existe relação entre preço e localização, significa apenas que não há uma relação linear entre as duas grandezas, i.e. ao subir no mapa, o preço do imóvel sobe. As relações entre preço e localizações são complexas.\n",
    "Por outro lado, preço tem forte correlação com o número de suítes e com o tamanho da área usável do imóvel. Essas duas características tem forte correlação com o preço do imóvel, por outro lado, o número de estacionamentos do imóvel tem correlação positiva com o preço, mas bem mais fraca.\n",
    "Essa informações são muito importantes na escolha de parâmetros de entrada para o modelo e avaliação dos dados."
   ]
  },
  {
   "cell_type": "markdown",
   "metadata": {},
   "source": [
    "## Preparando os dados para o uso em modelos de aprendizado de máquina\n",
    "\n",
    "Os dados ainda não estão prontos para servir como entrada para um modelo, eles precisam ser normalizados, isso é feito para evitar que algumas features tenham peso maior na saída do modelo simplesmente por terem valores muito altos. Por exemplo, feature usable_area área tem vários valores acima de 1000, enquanto que o números de banheiros por imóvel é 2, na média, por isso o modelo poderia dar grande importância a primeira feature em detrimento da segunda.\n",
    "\n",
    "Outro problema, é que a feature tipo é uma classe, ou seja, essa feature classifica cada imóvel. Não seria muito prático trabalhar com a string da classe para um modelo. Comumente é utilizada técnica chama de one-hot encoder para resolver esse problema, a técnica pode ser entendida observando-se a imagem abaixo \n",
    "\n",
    "Essa técmica será usada para que o modelo entenda a qual classe o imóvel pertence\n",
    "\n",
    "#### One-hot Encoding"
   ]
  },
  {
   "cell_type": "code",
   "execution_count": 17,
   "metadata": {},
   "outputs": [
    {
     "name": "stdout",
     "output_type": "stream",
     "text": [
      "One-hot Encoding\n"
     ]
    },
    {
     "data": {
      "text/html": [
       "<img src=\"https://i.imgur.com/mtimFxh.png\" width=\"500\" height=\"500\"/>"
      ],
      "text/plain": [
       "<IPython.core.display.Image object>"
      ]
     },
     "execution_count": 17,
     "metadata": {},
     "output_type": "execute_result"
    }
   ],
   "source": [
    "print(\"One-hot Encoding\")\n",
    "Image(url= \"https://i.imgur.com/mtimFxh.png\", width=500, height=500)"
   ]
  },
  {
   "cell_type": "code",
   "execution_count": 18,
   "metadata": {},
   "outputs": [],
   "source": [
    "def ohe(df): \n",
    "    \n",
    "    df = pd.get_dummies(df['tipo'], drop_first=False)\n",
    "    tipo_ohe = np.column_stack(([df['APARTMENT'].tolist(), df['FLAT'].tolist(), df['HOME'].tolist(), \\\n",
    "                df['OFFICE'].tolist(), df['TWO_STORY_HOUSE'].tolist()]))\n",
    "    return tipo_ohe\n",
    "\n",
    "def decode_tipo(ohe):\n",
    "    \n",
    "    lista_tipos = ['APARTMENT', 'FLAT', 'HOME', 'OFFICE', 'TWO_STORY_HOUSE']\n",
    "    return lista_tipos[ohe.argmax()]"
   ]
  },
  {
   "cell_type": "code",
   "execution_count": 19,
   "metadata": {},
   "outputs": [
    {
     "name": "stdout",
     "output_type": "stream",
     "text": [
      "O primeiro item do dataframe é :\n",
      "\n",
      "           id   latitude  longitude   price  n_bathrooms  n_bedrooms  \\\n",
      "0  787c7bd19d -23.612923 -46.614222  700000          3.0         4.0   \n",
      "\n",
      "   n_suites  parking_spaces  total_area  usable_area             tipo  \n",
      "0       1.0             6.0       388.0        388.0  TWO_STORY_HOUSE  \n",
      "\n",
      "O primeiro item do dataframe terá seu tipo codigicado como  [0 0 0 0 1]\n",
      "\n",
      "Após ser decodificado, seu tipo volta a ser  : TWO_STORY_HOUSE\n",
      "\n",
      "todos os valores do dataframe de teste são apartamentos\n"
     ]
    }
   ],
   "source": [
    "print('O primeiro item do dataframe é :')\n",
    "print()\n",
    "print(df_train.head(1))\n",
    "print()\n",
    "print(f\"O primeiro item do dataframe terá seu tipo codigicado como \", ohe(df_train)[0])\n",
    "print()\n",
    "print('Após ser decodificado, seu tipo volta a ser  :', decode_tipo(ohe(df_train)[0]))\n",
    "data_tipo_train = ohe(df_train)\n",
    "print()\n",
    "print('todos os valores do dataframe de teste são apartamentos')\n",
    "data_tipo_test = []\n",
    "for i in range(len(df_test)):\n",
    "    data_tipo_test.append([1, 0, 0, 0, 0])"
   ]
  },
  {
   "cell_type": "markdown",
   "metadata": {},
   "source": [
    "#### Normalização dos Dados\n",
    "\n",
    "O modelo verá todas as features como valores numéricos, e todos eles deverão ter um valor mínimo e máximo, idealmente, variando entre zero e um, Portanto todos os dados precisarão ser normalizados, menos o campo tipo, porque já está no formato correto.\n",
    "\n",
    "No tratamento de outliers, todos os valores menores que zero e maiores do que um certo limiar, foram excluídos, para normalizar os dados para que eles estejam no intervalo [0, 1], precisamos então apenas divitir todos os valores desse conjunto de dados restante pelo seu respectivo limiar\n",
    "\n",
    "Em um modelo mais robusto, a localização do imóvel deve ser considerada, entretanto, essa feature precisa ser transformada para ser usada no modelo e devido ao tempo curto, não foi possível fazer essa transformação de forma que não atrapalhe o treinamento do modelo."
   ]
  },
  {
   "cell_type": "code",
   "execution_count": 20,
   "metadata": {},
   "outputs": [],
   "source": [
    "# Como os arquivos de teste tem apenas apartamentos\n",
    "# os dados de treinamento serão filtrados para ter apenas apartamentos\n",
    "# para ter menos campos e obter melhores resultados nas predições do modelo\n",
    "\n",
    "df_train = df_train[df_train.tipo == 'APARTMENT']\n",
    "\n",
    "data_bathrooms_train = np.array(df_train['n_bathrooms'].tolist())/10\n",
    "data_bedrooms_train = np.array(df_train['n_bedrooms'].tolist())/10\n",
    "data_suites_train = np.array(df_train['n_suites'].tolist())/10\n",
    "data_parking_spaces_train = np.array(df_train['parking_spaces'].tolist())/10\n",
    "data_total_area_train = np.array(df_train['total_area'].tolist())/5000\n",
    "data_usable_area_train = np.array(df_train['usable_area'].tolist())/5000\n",
    "\n",
    "# devemos aplica os mesmos procedimentos no dataframe de teste\n",
    "\n",
    "data_bathrooms_test = np.array(df_test['n_bathrooms'].tolist())/10\n",
    "data_bedrooms_test = np.array(df_test['n_bedrooms'].tolist())/10\n",
    "data_suites_test = np.array(df_test['n_suites'].tolist())/10\n",
    "data_parking_spaces_test = np.array(df_test['parking_spaces'].tolist())/10\n",
    "data_total_area_test = np.array(df_test['total_area'].tolist())/5000\n",
    "data_usable_area_test = np.array(df_test['usable_area'].tolist())/5000"
   ]
  },
  {
   "cell_type": "code",
   "execution_count": 21,
   "metadata": {},
   "outputs": [],
   "source": [
    "x_train = np.column_stack((data_bathrooms_train, data_bedrooms_train, data_suites_train, \\\n",
    "                         data_parking_spaces_train, data_total_area_train, data_usable_area_train))\n",
    "\n",
    "x_test = np.column_stack((data_bathrooms_test, data_bedrooms_test, data_suites_test, \\\n",
    "                         data_parking_spaces_test, data_total_area_test, data_usable_area_test))\n",
    "\n",
    "\n",
    "y_train = np.array(df_train['price'].tolist())"
   ]
  },
  {
   "cell_type": "markdown",
   "metadata": {},
   "source": [
    "## Modelo para previsão de preços\n",
    "\n",
    "O único modelo testado aqui, será com uma rede neural utilizando Keras/Tensorflow, os modelos 'fully-connected' são de uso geral para aproximar funções não lineares (como esse data-set), como eu discuto nesse notebook https://github.com/alvaroqueiroz/TFRegression/blob/master/Regression.ipynb se essas redes possuírem função de ativação adequadas, elas podem aproximar funções não lineares com precisão arbitrária."
   ]
  },
  {
   "cell_type": "code",
   "execution_count": 22,
   "metadata": {
    "scrolled": false
   },
   "outputs": [
    {
     "name": "stderr",
     "output_type": "stream",
     "text": [
      "WARNING: Logging before flag parsing goes to stderr.\n",
      "W0731 23:44:48.821890 15104 deprecation.py:506] From c:\\users\\alvar\\appdata\\local\\programs\\python\\python37\\lib\\site-packages\\tensorflow\\python\\ops\\init_ops.py:1251: calling VarianceScaling.__init__ (from tensorflow.python.ops.init_ops) with dtype is deprecated and will be removed in a future version.\n",
      "Instructions for updating:\n",
      "Call initializer instance with the dtype argument instead of passing it to the constructor\n"
     ]
    },
    {
     "name": "stdout",
     "output_type": "stream",
     "text": [
      "Model: \"sequential\"\n",
      "_________________________________________________________________\n",
      "Layer (type)                 Output Shape              Param #   \n",
      "=================================================================\n",
      "dense (Dense)                (None, 10)                70        \n",
      "_________________________________________________________________\n",
      "dense_1 (Dense)              (None, 20)                220       \n",
      "_________________________________________________________________\n",
      "dense_2 (Dense)              (None, 30)                630       \n",
      "_________________________________________________________________\n",
      "dense_3 (Dense)              (None, 40)                1240      \n",
      "_________________________________________________________________\n",
      "dense_4 (Dense)              (None, 50)                2050      \n",
      "_________________________________________________________________\n",
      "dense_5 (Dense)              (None, 1)                 51        \n",
      "=================================================================\n",
      "Total params: 4,261\n",
      "Trainable params: 4,261\n",
      "Non-trainable params: 0\n",
      "_________________________________________________________________\n"
     ]
    }
   ],
   "source": [
    "model = tf.keras.Sequential()\n",
    "model.add(tf.keras.layers.Dense(10, input_shape=(6,), activation=tf.nn.elu))\n",
    "model.add(tf.keras.layers.Dense(20, activation=tf.nn.elu))\n",
    "model.add(tf.keras.layers.Dense(30, activation=tf.nn.elu))\n",
    "model.add(tf.keras.layers.Dense(40, activation=tf.nn.elu))\n",
    "model.add(tf.keras.layers.Dense(50, activation=tf.nn.elu))\n",
    "model.add(tf.keras.layers.Dense(1))\n",
    "model.compile(optimizer =tf.keras.optimizers.Adam(lr=0.0001), loss = 'mean_squared_error', \n",
    "          metrics=['mae'])\n",
    "model.summary()"
   ]
  },
  {
   "cell_type": "code",
   "execution_count": 23,
   "metadata": {
    "scrolled": true
   },
   "outputs": [],
   "source": [
    "history = model.fit(x=x_train, y=y_train, epochs=200, verbose = 0)"
   ]
  },
  {
   "cell_type": "code",
   "execution_count": 24,
   "metadata": {},
   "outputs": [],
   "source": [
    "model.save('model')"
   ]
  },
  {
   "cell_type": "code",
   "execution_count": 25,
   "metadata": {},
   "outputs": [],
   "source": [
    "result = pd.DataFrame({\n",
    "    'id': df_test.id.tolist(),\n",
    "    'price': model.predict(x_test).tolist()\n",
    "}) \n",
    "result.head()\n",
    "result.to_csv (r'C:\\Users\\alvar\\OneDrive\\Documentos Notebook\\GitHub\\ds-zap-challenge\\precos.csv', index = None, header=True)\n"
   ]
  },
  {
   "cell_type": "code",
   "execution_count": 26,
   "metadata": {},
   "outputs": [
    {
     "data": {
      "image/png": "[encoded data removed]",
      "text/plain": [
       "<Figure size 432x288 with 1 Axes>"
      ]
     },
     "metadata": {
      "needs_background": "light"
     },
     "output_type": "display_data"
    },
    {
     "data": {
      "image/png": "[encoded data removed]",
      "text/plain": [
       "<Figure size 432x288 with 1 Axes>"
      ]
     },
     "metadata": {
      "needs_background": "light"
     },
     "output_type": "display_data"
    }
   ],
   "source": [
    "plt.plot(history.history['loss'])\n",
    "plt.title('model loss')\n",
    "plt.ylabel('loss')\n",
    "plt.xlabel('epoch')\n",
    "plt.legend(['train'], loc='upper left')\n",
    "plt.show()\n",
    "\n",
    "plt.plot(history.history['mean_absolute_error'])\n",
    "plt.title('model accuracy')\n",
    "plt.ylabel('accuracy')\n",
    "plt.xlabel('epoch')\n",
    "plt.legend(['train'], loc='upper left')\n",
    "plt.show()"
   ]
  },
  {
   "cell_type": "markdown",
   "metadata": {},
   "source": [
    "## Resultados"
   ]
  },
  {
   "cell_type": "markdown",
   "metadata": {},
   "source": [
    "Para analisar o modelo, será criado um dataframe com as informações do imóvel e o erro do modelo, com isso, podemos tirar informações dos imóveis com base no erro do modelo, para saber quais as características do imóveis com as melhores predições"
   ]
  },
  {
   "cell_type": "code",
   "execution_count": 39,
   "metadata": {},
   "outputs": [],
   "source": [
    "y_model = model.predict(x_train).tolist()\n",
    "y = y_train.tolist()\n",
    "erro_pred = []\n",
    "for i in range(len(y_model)):\n",
    "    erro_pred.append(abs(y_model[i][0] - y[i]))\n",
    "    "
   ]
  },
  {
   "cell_type": "code",
   "execution_count": 40,
   "metadata": {},
   "outputs": [
    {
     "data": {
      "text/html": [
       "<div>\n",
       "<style scoped>\n",
       "    .dataframe tbody tr th:only-of-type {\n",
       "        vertical-align: middle;\n",
       "    }\n",
       "\n",
       "    .dataframe tbody tr th {\n",
       "        vertical-align: top;\n",
       "    }\n",
       "\n",
       "    .dataframe thead th {\n",
       "        text-align: right;\n",
       "    }\n",
       "</style>\n",
       "<table border=\"1\" class=\"dataframe\">\n",
       "  <thead>\n",
       "    <tr style=\"text-align: right;\">\n",
       "      <th></th>\n",
       "      <th>erro_pred</th>\n",
       "      <th>n_bathrooms</th>\n",
       "      <th>n_bedrooms</th>\n",
       "      <th>n_suites</th>\n",
       "      <th>parking_spaces</th>\n",
       "      <th>total_area</th>\n",
       "      <th>usable_area</th>\n",
       "    </tr>\n",
       "  </thead>\n",
       "  <tbody>\n",
       "    <tr>\n",
       "      <th>0</th>\n",
       "      <td>3.032115e+05</td>\n",
       "      <td>2.0</td>\n",
       "      <td>3.0</td>\n",
       "      <td>1.0</td>\n",
       "      <td>2.0</td>\n",
       "      <td>80.0</td>\n",
       "      <td>80.0</td>\n",
       "    </tr>\n",
       "    <tr>\n",
       "      <th>1</th>\n",
       "      <td>1.441583e+06</td>\n",
       "      <td>5.0</td>\n",
       "      <td>4.0</td>\n",
       "      <td>4.0</td>\n",
       "      <td>5.0</td>\n",
       "      <td>332.0</td>\n",
       "      <td>3322.0</td>\n",
       "    </tr>\n",
       "    <tr>\n",
       "      <th>2</th>\n",
       "      <td>2.671404e+05</td>\n",
       "      <td>4.0</td>\n",
       "      <td>4.0</td>\n",
       "      <td>3.0</td>\n",
       "      <td>2.0</td>\n",
       "      <td>141.0</td>\n",
       "      <td>141.0</td>\n",
       "    </tr>\n",
       "    <tr>\n",
       "      <th>3</th>\n",
       "      <td>4.594261e+05</td>\n",
       "      <td>0.0</td>\n",
       "      <td>4.0</td>\n",
       "      <td>4.0</td>\n",
       "      <td>3.0</td>\n",
       "      <td>188.0</td>\n",
       "      <td>188.0</td>\n",
       "    </tr>\n",
       "    <tr>\n",
       "      <th>4</th>\n",
       "      <td>4.159397e+04</td>\n",
       "      <td>2.0</td>\n",
       "      <td>2.0</td>\n",
       "      <td>0.0</td>\n",
       "      <td>1.0</td>\n",
       "      <td>69.0</td>\n",
       "      <td>69.0</td>\n",
       "    </tr>\n",
       "  </tbody>\n",
       "</table>\n",
       "</div>"
      ],
      "text/plain": [
       "      erro_pred  n_bathrooms  n_bedrooms  n_suites  parking_spaces  \\\n",
       "0  3.032115e+05          2.0         3.0       1.0             2.0   \n",
       "1  1.441583e+06          5.0         4.0       4.0             5.0   \n",
       "2  2.671404e+05          4.0         4.0       3.0             2.0   \n",
       "3  4.594261e+05          0.0         4.0       4.0             3.0   \n",
       "4  4.159397e+04          2.0         2.0       0.0             1.0   \n",
       "\n",
       "   total_area  usable_area  \n",
       "0        80.0         80.0  \n",
       "1       332.0       3322.0  \n",
       "2       141.0        141.0  \n",
       "3       188.0        188.0  \n",
       "4        69.0         69.0  "
      ]
     },
     "execution_count": 40,
     "metadata": {},
     "output_type": "execute_result"
    }
   ],
   "source": [
    "abs_erro_pred = y_model-y_train\n",
    "\n",
    "result_df = pd.DataFrame({\n",
    "    \n",
    "    'erro_pred': erro_pred,\n",
    "    'n_bathrooms': df_train['n_bathrooms'].tolist(),\n",
    "    'n_bedrooms': df_train['n_bedrooms'].tolist(),\n",
    "    'n_suites': df_train['n_suites'].tolist(),\n",
    "    'parking_spaces': df_train['parking_spaces'].tolist(),\n",
    "    'total_area': df_train['total_area'].tolist(),\n",
    "    'usable_area': df_train['usable_area'].tolist()\n",
    "}) \n",
    "\n",
    "result_df.head()"
   ]
  },
  {
   "cell_type": "code",
   "execution_count": 49,
   "metadata": {},
   "outputs": [
    {
     "data": {
      "image/png": "[encoded data removed]",
      "text/plain": [
       "<Figure size 432x288 with 1 Axes>"
      ]
     },
     "metadata": {
      "needs_background": "light"
     },
     "output_type": "display_data"
    }
   ],
   "source": [
    "plot = result_df['erro_pred'].plot.hist(bins = 1000)\n",
    "plt.axis([0, 1000000, 0, 5000]);"
   ]
  },
  {
   "cell_type": "code",
   "execution_count": 51,
   "metadata": {},
   "outputs": [
    {
     "name": "stdout",
     "output_type": "stream",
     "text": [
      "A quantidade mais comum de um quartos por imóvel é :  2.0\n"
     ]
    },
    {
     "data": {
      "image/png": "[encoded data removed]",
      "text/plain": [
       "<Figure size 432x288 with 1 Axes>"
      ]
     },
     "metadata": {
      "needs_background": "light"
     },
     "output_type": "display_data"
    }
   ],
   "source": [
    "df_plot = result_df[result_df.erro_pred < 50000]\n",
    "plot = df_plot['n_bedrooms'].plot.hist(bins = max_bedrooms, xlim=(0,10))\n",
    "plt.xlabel('quartos')"
   ]
  },
  {
   "cell_type": "code",
   "execution_count": 52,
   "metadata": {},
   "outputs": [
    {
     "data": {
      "text/plain": [
       "Text(0.5, 0, 'banheiros')"
      ]
     },
     "execution_count": 52,
     "metadata": {},
     "output_type": "execute_result"
    },
    {
     "data": {
      "image/png": "[encoded data removed]",
      "text/plain": [
       "<Figure size 432x288 with 1 Axes>"
      ]
     },
     "metadata": {
      "needs_background": "light"
     },
     "output_type": "display_data"
    }
   ],
   "source": [
    "plot = df_plot['n_bathrooms'].plot.hist(bins = max_bedrooms, xlim=(0,10))\n",
    "plt.xlabel('banheiros')"
   ]
  },
  {
   "cell_type": "code",
   "execution_count": 53,
   "metadata": {},
   "outputs": [
    {
     "data": {
      "text/plain": [
       "Text(0.5, 0, 'banheiros')"
      ]
     },
     "execution_count": 53,
     "metadata": {},
     "output_type": "execute_result"
    },
    {
     "data": {
      "image/png": "[encoded data removed]",
      "text/plain": [
       "<Figure size 432x288 with 1 Axes>"
      ]
     },
     "metadata": {
      "needs_background": "light"
     },
     "output_type": "display_data"
    }
   ],
   "source": [
    "plot = df_plot['parking_spaces'].plot.hist(bins = max_bedrooms, xlim=(0,10))\n",
    "plt.xlabel('quantidade de garagens')"
   ]
  },
  {
   "cell_type": "markdown",
   "metadata": {},
   "source": [
    "## Conclusão\n",
    "\n",
    "#### A métrica para escolha do modelo é adequada para comunicar os resultados aos stakeholders?\n",
    "\n",
    "Não, Esse foi um primeiro modelo, outros modelos devem ser empregados e comparados, modelos esemble, árvores de decisão, random forests e etc. Outra abordagem que precisa ser feita é a otimização de hyperparametros do modelo, como quantidade de camadas, número de nós em cada camada e taxa de aprendizado. O modelo está longe de ser o melhor possível, no projeto https://github.com/alvaroqueiroz/FashionMNISTclass-Hyperparameter-Optimization/blob/master/FashionMNIST_paramOpt.ipynb eu mostro como otiização de hyperparametros pode ser feita com otimização Bayesiana.\n",
    "\n",
    "#### Em quais bairros ou em quais faixas de preço o seu modelo performa melhor?\n",
    "\n",
    "Esse tipo de modelo é muito dependente de dados, quanto mais dados de cada categoria, melhor serão as predições dos preços, por isso, um bom chute seria que as melhores predições seriam feitas em apartamentos com 2 ou 3 quartos, 1 ou 2 banheiros e 1 ou 2 vagas para estacionamento, ou seja, um apartamento médio do banco de dados, e como foi mostrado na sessão resultados, isso é exatamente o que se verifica.\n",
    "\n",
    "#### Se você tivesse que estimar o valor dos imóveis com apenas 3 campos, quais seriam eles?\n",
    "\n",
    "Olhando pela matriz de correlação, os 3 parâmetros que podem influenciar mais no preço são : área usável, número de quartos e suítes. Uma feature que combine latitude e longitude também tem potencial de ter grande impacto no preço do imóvel.\n",
    "\n",
    "#### Como você vislumbra colocar a sua solução em produção?\n",
    "\n",
    "Utilizando Amazon Web Services, O S3 poderia ser usado para abrigar o Data Lake, o ETL poderia ser implementado utilizando o AWS Glue ou Scripts em python poderiam ser escritos, após o ETL, os dados seriam alocados em Data Werehouse como o AWS Redshift, com os dados 'limpos', poderia-se servir o modelo no AWS Deep Learning AMI"
   ]
  },
  {
   "cell_type": "code",
   "execution_count": null,
   "metadata": {},
   "outputs": [],
   "source": []
  }
 ],
 "metadata": {
  "celltoolbar": "Raw Cell Format",
  "kernelspec": {
   "display_name": "Python 3",
   "language": "python",
   "name": "python3"
  },
  "language_info": {
   "codemirror_mode": {
    "name": "ipython",
    "version": 3
   },
   "file_extension": ".py",
   "mimetype": "text/x-python",
   "name": "python",
   "nbconvert_exporter": "python",
   "pygments_lexer": "ipython3",
   "version": "3.7.4"
  }
 },
 "nbformat": 4,
 "nbformat_minor": 2
}
